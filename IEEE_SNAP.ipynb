{
 "cells": [
  {
   "cell_type": "code",
   "execution_count": 1,
   "id": "ee090a2e",
   "metadata": {},
   "outputs": [],
   "source": [
    "import cv2\n",
    "import numpy as np\n",
    "import random"
   ]
  },
  {
   "cell_type": "code",
   "execution_count": 3,
   "id": "fc8cdc59",
   "metadata": {},
   "outputs": [
    {
     "name": "stdout",
     "output_type": "stream",
     "text": [
      "5\n"
     ]
    }
   ],
   "source": [
    "\"\"\"\"\n",
    "didn't do the usual haar cascading instead to increase unique filter different color channel are used and the order\n",
    "of color channel are different at every execution to keep the user excited about about color will be next this has \n",
    "been done for creative purpose\n",
    "IEEE logo is inserted at appropriate position for publicity\n",
    "The accuracy is also good a trippy filter is being showed and the image and video is in the drive link.\n",
    "\"\"\"\"\n",
    "vid = cv2.VideoCapture(0)\n",
    "icon = cv2.imread('/home/ayush/Downloads/ieee.jpg')\n",
    "#this has been done to create a ROI so that the logo can be added\n",
    "x_offset = 1\n",
    "y_offset = 20\n",
    "x_end = x_offset + icon.shape[1]\n",
    "y_end = y_offset + icon.shape[0]\n",
    "#IEEE logo is being resized\n",
    "icon = cv2.resize(icon,(533, 460))\n",
    "#Random number is being selected bewteen (0,5) so that order of Blue, Green, Yellow changed since 3! combination possible thus (0,5) is the range\n",
    "num1 = random.randint(0, 5)\n",
    "print(num1)\n",
    "while(True):\n",
    "    ret, img = vid.read()\n",
    "    gray = cv2.cvtColor(img, cv2.COLOR_BGR2GRAY)\n",
    "    #icon added to the image by camera in ROI\n",
    "    img = (img[y_offset:y_end,x_offset:x_end]) + icon\n",
    "    #BLURRING done to increase edge sharpness and decrease a noise by a great factor and also to smoothen the face\n",
    "    img = cv2.bilateralFilter(img,9,75,75)\n",
    "    #Here after a random number is selected \n",
    "    if(num1 ==0):\n",
    "        #RBG color\n",
    "            img[ 0:153,:,0]=0\n",
    "            img[ 0:153,:,1] = 0\n",
    "            img[153:306,:,1]=0\n",
    "            img[ 153:306,:,2] = 0\n",
    "            img[306:459,:,0]=0\n",
    "            img[306:459,:,2] = 0\n",
    "    if(num1 ==1):\n",
    "        #RGB color\n",
    "            img[ 0:153,:,0]=0\n",
    "            img[ 0:153,:,1] = 0\n",
    "            img[153:306,:,0]=0\n",
    "            img[ 153:306,:,2] = 0\n",
    "            img[306:459,:,1]=0\n",
    "            img[306:459,:,2] = 0\n",
    "    if(num1 ==2):\n",
    "        #GBR color\n",
    "            img[ 0:153,:,0]=0\n",
    "            img[ 0:153,:,2] = 0\n",
    "            img[153:306,:,1]=0\n",
    "            img[ 153:306,:,2] = 0\n",
    "            img[306:459,:,0]=0\n",
    "            img[306:459,:,1] = 0\n",
    "    if(num1 ==3):\n",
    "        #GRB color\n",
    "            img[ 0:153,:,0]=0\n",
    "            img[ 0:153,:,2] = 0\n",
    "            img[153:306,:,0]=0\n",
    "            img[ 153:306,:,1] = 0\n",
    "            img[306:459,:,1]=0\n",
    "            img[306:459,:,2] = 0\n",
    "    if(num1 ==4):\n",
    "        #BRG color\n",
    "            img[ 0:153,:,1]=0\n",
    "            img[ 0:153,:,2] = 0\n",
    "            img[153:306,:,0]=0\n",
    "            img[ 153:306,:,1] = 0\n",
    "            img[306:459,:,0]=0\n",
    "            img[306:459,:,2] = 0\n",
    "    if(num1 ==5):\n",
    "        #BGR color\n",
    "            img[ 0:153,:,1]=0\n",
    "            img[ 0:153,:,2] = 0\n",
    "            img[153:306,:,0]=0\n",
    "            img[ 153:306,:,2] = 0\n",
    "            img[306:459,:,0]=0\n",
    "            img[306:459,:,1] = 0\n",
    "    cv2.imshow('img', img)\n",
    "    #cv2.imshow('icon', icon)\n",
    "   \n",
    "    if cv2.waitKey(1) & 0xFF == ord('q'):\n",
    "        break\n",
    "vid.release()\n",
    "cv2.destroyAllWindows()\n"
   ]
  },
  {
   "cell_type": "code",
   "execution_count": null,
   "id": "8f4eaa73",
   "metadata": {},
   "outputs": [],
   "source": []
  },
  {
   "cell_type": "code",
   "execution_count": null,
   "id": "b96aa2ed",
   "metadata": {},
   "outputs": [],
   "source": []
  }
 ],
 "metadata": {
  "kernelspec": {
   "display_name": "Python 3",
   "language": "python",
   "name": "python3"
  },
  "language_info": {
   "codemirror_mode": {
    "name": "ipython",
    "version": 3
   },
   "file_extension": ".py",
   "mimetype": "text/x-python",
   "name": "python",
   "nbconvert_exporter": "python",
   "pygments_lexer": "ipython3",
   "version": "3.8.10"
  }
 },
 "nbformat": 4,
 "nbformat_minor": 5
}
